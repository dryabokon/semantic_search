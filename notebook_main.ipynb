{
 "cells": [
  {
   "cell_type": "code",
   "execution_count": null,
   "id": "da5238c7",
   "metadata": {},
   "outputs": [],
   "source": [
    "from IPython.display import Image, display\n",
    "from matplotlib import pyplot as plt\n",
    "import cv2\n",
    "import sys\n",
    "# ----------------------------------------------------------------------------------------------------------------------\n",
    "sys.path.insert(1, './tools/')\n",
    "import tools_plot_v2\n",
    "# ----------------------------------------------------------------------------------------------------------------------\n",
    "import utils_semantic\n",
    "# ----------------------------------------------------------------------------------------------------------------------\n",
    "folder_out = './data/output/'\n",
    "filename_out = 'thumbnails.jpg'\n",
    "U = utils_semantic.Semantic_proc(folder_out=folder_out, cold_start=False)\n",
    "# ----------------------------------------------------------------------------------------------------------------------\n",
    "print('OK')"
   ]
  },
  {
   "cell_type": "code",
   "execution_count": null,
   "id": "97d121d2",
   "metadata": {},
   "outputs": [],
   "source": [
    "query_text = 'dog'\n",
    "top_n = 8\n",
    "filename_images = U.search_images(query_text=query_text,filename_tokens_images='./data/ex_GCC/tokens.csv',\n",
    "                                  filename_tokens_words ='./data/ex_tokens_hex/tokens_english_3000.csv',top_n=top_n)\n",
    "U.compose_thumbnails('./data/ex_GCC/', filename_images,filename_out)\n",
    "Image(folder_out+filename_out)"
   ]
  },
  {
   "cell_type": "code",
   "execution_count": null,
   "id": "6312be20",
   "metadata": {},
   "outputs": [],
   "source": []
  }
 ],
 "metadata": {
  "kernelspec": {
   "display_name": "Python 3 (ipykernel)",
   "language": "python",
   "name": "python3"
  },
  "language_info": {
   "codemirror_mode": {
    "name": "ipython",
    "version": 3
   },
   "file_extension": ".py",
   "mimetype": "text/x-python",
   "name": "python",
   "nbconvert_exporter": "python",
   "pygments_lexer": "ipython3",
   "version": "3.9.12"
  }
 },
 "nbformat": 4,
 "nbformat_minor": 5
}
